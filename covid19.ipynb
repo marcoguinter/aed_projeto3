{
 "cells": [
  {
   "cell_type": "markdown",
   "metadata": {},
   "source": [
    "# Projeto #3 - Analisando dados oficiais sobre a Covid19\n",
    "\n",
    "## 1) (5%) Qual a base escolhida e qual seu interesse nela (podem ser mais de uma)? Descrição básica do conjunto de dados escolhido pelo aluno (1 parágrafo).\n",
    "Indique o link da base no Kaggle e explique em um parágrafo curto por que essa base é interessante para você. Quais são as características básicas da base?\n",
    "Ex: Estou trabalhando com o histório de vendas de um varejo e uma outra base do mesmo varejista das suas campanhas de marketing realizadas em veiculos de comunicação.\n",
    "\n",
    "### Base de dados escolhida\n",
    "\n",
    "A base escolhida é um conjunto de dados cruzados a partir de dados oficiais sob responsabilidade das Secretarias de Saúde dos Estados, bem como do IBGE - Instituto Brasileiro de Geografia e Estatística e informações publicadas pelos Cartórios Brasileiros referente a óbitos.\n",
    "\n",
    "Fontes: \n",
    "\n",
    "Fonte: Secretarias de Saúde das Unidades Federativas, dados tratados por Álvaro Justen e colaboradores/Brasil.IO. \n",
    "\n",
    "Brasil.IO: boletins epidemiológicos da COVID-19 por município por dia, disponível em: https://brasil.io/dataset/covid19/ (última atualização:  09 de Agosto de 2020 às 19:57:27, acesso em 10 de Agosto de 2020 12:00).\n",
    "\n",
    "Portal da Transparência do Registro Civil: Painel COVID Registral, registro de óbitos por doenças respiratórias, disponível em: https://transparencia.registrocivil.org.br/registral-covid (Última atualização 10 de Agosto de 2020 04:50, acesso em 10 de Agosto de 2020 12:00).\n",
    "\n",
    "Estimativas de população publicadas no Diário Oficial da União pelo Instituto Brasileiro de Geografia e Estatística - IBGE, disponível em https://www.ibge.gov.br/estatisticas/sociais/populacao/9103-estimativas-de-populacao.html (última atualização: 1º de julho de 2019, acesso em 17 de Maio de 2020 21:00).\n"
   ]
  },
  {
   "cell_type": "markdown",
   "metadata": {},
   "source": [
    "\n",
    "## 2) (5%) Que tipo de problema podemos solucionar com ela? Liste ao menos 3 hipóteses sobre seus dados, caso sua base seja muito restrita converse com os professores antes de seguir.\n",
    "Quais são suas hipoteses sobre os dados? O que vc espera descobrir com esse estudo?\n",
    "Ex: Hipoteses válidas seriam:\n",
    "As pessoas fazem mais compras nos dias utéis ou finais de semana?\n",
    "Existe diferença entre o padrão de compra de segunda ou terça feira?\n",
    "O horário de pico influencia no padrão de compra dos clientes?\n",
    "Quais produtos são comprados mais juntos? Existe diferença se observarmos a idade do cliente?\n",
    "Qual o efeito de uma campanha de marketing nas vendas?\n",
    "\n",
    "### Hipóteses\n",
    "Hipótese 1: A pandemia trouxe um aumento no número de óbitos no Brasil ou houve queda/estabilização de outras causas de mortes?\n",
    "Hipótese 2: É possível detectar subnotificação de óbitos que seriam mais provavelmente associados à Covid19?\n",
    "Hipótese 3: É psosível prever quando haverá redução no número de óbitos por Covid19 significativamente?"
   ]
  },
  {
   "cell_type": "markdown",
   "metadata": {},
   "source": [
    "\n",
    "## 3) (20%) Preparação de dados\n",
    "Hora de deixar a base perfeita para se trabalhar. Limpe os dados, integre com outras fontes e transforme-o para ficar pronto para se trabalhar! No fim, mostre um antes e depois de seu dataframe."
   ]
  },
  {
   "cell_type": "code",
   "execution_count": null,
   "metadata": {},
   "outputs": [],
   "source": [
    "# Datasets\n",
    "\n",
    "## Caso (caso.csv)\n",
    "\n",
    "Essa tabela tem apenas os casos relatados pelos boletins das Secretarias Estaduais de Saúde e, por isso, não possui valores para todos os municípios e todas as datas - essa é uma \"tabela canônica\", que reflete o que foi publicado. Necessário conferir se os dados apresentados correspondem às fontes citadas. As análises poderão ocorrer nesta tabela apenas, pois consolida os dados de outras fontes.\n",
    "\n",
    "Colunas:\n",
    "\n",
    "- date: data de coleta dos dados no formato YYYY-MM-DD.\n",
    "- state: sigla da unidade federativa, exemplo: SP.\n",
    "- city: nome do município (pode estar em branco quando o registro é referente ao estado, pode ser preenchido com Importados/Indefinidos também).\n",
    "- place_type: tipo de local que esse registro descreve, pode ser city ou state.\n",
    "- order_for_place: número que identifica a ordem do registro para este local. O registro referente ao primeiro boletim em que esse local aparecer será contabilizado como 1 e os demais boletins incrementarão esse valor.\n",
    "- is_last: campo pré-computado que diz se esse registro é o mais novo para esse local, pode ser True ou False (caso filtre por esse campo, use is_last=True ou is_last=False, não use o valor em minúsculas).\n",
    "- city_ibge_code: código IBGE do local.\n",
    "- confirmed: número de casos confirmados.\n",
    "- deaths: número de mortes.\n",
    "- estimated_population_2019: população estimada para esse município/estado em 2019, segundo o IBGE\n",
    "- confirmed_per_100k_inhabitants: número de casos confirmados por 100.000 habitantes.\n",
    "death_rate: taxa de mortalidade (mortes / confirmados).\n",
    "\n",
    "## Boletim (boletim.csv)\n",
    "\n",
    "Tabela que lista os boletins publicados pelas Secretarias Estaduais de Saúde. Pode aparecer mais de um para a mesma data e podem existir dias em que as SES não publicam boletins.\n",
    "\n",
    "Colunas:\n",
    "\n",
    "- date: data do boletim no formato YYYY-MM-DD.\n",
    "- state: sigla da unidade federativa, exemplo: SP.\n",
    "- url: link para o boletim\n",
    "- notes: observações sobre esse boletim\n",
    "\n",
    "## Caso Full (caso_full.csv)\n",
    "\n",
    "Tabela gerada a partir da tabela caso, que possui um registro por município (+ Importados/Indefinidos) e estado para cada data disponível; nos casos em que um boletim não foi divulgado naquele dia, é copiado o dado do último dia disponível e a coluna is_repeated fica com o valor True.\n",
    "\n",
    "Colunas:\n",
    "\n",
    "- city: nome do município (pode estar em branco quando o registro é referente ao estado, pode ser preenchido com Importados/Indefinidos também).\n",
    "- city_ibge_code: código IBGE do local.\n",
    "- date: data de coleta dos dados no formato YYYY-MM-DD.\n",
    "- epidemiological_week: número da semana epidemiológica.\n",
    "estimated_population_2019: população estimada para esse município/estado em 2019, segundo o IBGE (acesse o script que faz o download e conversão dos dados de população).\n",
    "- is_last: campo pré-computado que diz se esse registro é o mais novo para esse local, pode ser True ou False (caso filtre por esse campo, use is_last=True ou is_last=False, não use o valor em minúsculas).\n",
    "- is_repeated: campo pré-computado que diz se as informações nesse registro foram publicadas pela Secretaria Estadual de Saúde no dia date ou se o dado é repetido do último dia em que o dado está disponível (igual ou anterior a date). Isso ocorre pois nem todas as secretarias publicam boletins todos os dias. Veja também o campo last_available_date.\n",
    "last_available_confirmed: número de casos confirmados do último dia disponível igual ou anterior à data date.\n",
    "last_available_confirmed_per_100k_inhabitants: número de casos confirmados por 100.000 habitantes do último dia disponível igual ou anterior à data date.\n",
    "- last_available_date: data da qual o dado se refere.\n",
    "last_available_death_rate: taxa de mortalidade (mortes / confirmados) do último dia disponível igual ou anterior à data date.\n",
    "last_available_deaths: número de mortes do último dia disponível igual ou anterior à data date.\n",
    "- order_for_place: número que identifica a ordem do registro para este local. O registro referente ao primeiro boletim em que esse local aparecer será contabilizado como 1 e os demais boletins incrementarão esse valor.\n",
    "- place_type: tipo de local que esse registro descreve, pode ser city ou state.\n",
    "- state: sigla da unidade federativa, exemplo: SP.\n",
    "- new_confirmed: número de novos casos confirmados desde o último dia (note que caso is_repeated seja True, esse valor sempre será 0 e que esse valor pode ser negativo caso a SES remaneje os casos desse município para outro).\n",
    "- new_deaths: número de novos óbitos desde o último dia (note que caso is_repeated seja True, esse valor sempre será 0 e que esse valor pode ser negativo caso a SES remaneje os casos desse município para outro).\n",
    "\n",
    "\n",
    "## Óbito cartório (obito_cartorio.csv)\n",
    "\n",
    "Essa tabela contém dados de óbitos registrados nos cartórios e disponíveis no Portal da Transparência do Registro Civil.\n",
    "\n",
    "DADOS INCOMPLETOS: os cartórios podem demorar algumas semanas para consolidar os dados e, portanto, os dados dos 14 últimos dias (pelo menos) são incompletos e serão atualizados no futuro. Caso queira ter certeza de que está trabalhando com números finais (ou quase finais), utilize dados anteriores a 30 dias da data de atualização desse dataset.\n",
    "\n",
    "\n",
    "- deaths_total_2019: Quantidade de óbitos totais para o estado state acumulados no ano de 2019 (de 1 de janeiro de 2019 a dia/mês de date em 2019).\n",
    "- deaths_total_2020: Quantidade de óbitos totais para o estado state acumulados no ano de 2020 (de 1 de janeiro de 2020 a date).\n",
    "- new_deaths_total_2019: Quantidade de óbitos totais para o estado state ocorridos no dia/mês de date, porém em 2019 (de 1 de janeiro de 2019 a dia/mês de date em 2019).\n",
    "- deaths_covid19: Quantidade de óbitos em decorrência de suspeita ou confirmação de covid19 para o estado state acumulados no ano de 2020 (de 1 de janeiro de 2020 a date).\n",
    "- new_deaths_total_2020: Quantidade de óbitos totais para o estado state ocorridos na data date (em 2020).\n",
    "- deaths_indeterminate_2019: Quantidade de óbitos de motivo indeterminado para o estado state acumulados no ano de 2019 (de 1 de janeiro de 2019 a dia/mês de date em 2019).\n",
    "- deaths_indeterminate_2020: Quantidade de óbitos de motivo indeterminado para o estado state acumulados no ano de 2020 (de 1 de janeiro de 2020 a date).\n",
    "- deaths_others_2019: Quantidade de óbitos em decorrência de outros motivos para o estado state acumulados no ano de 2019 (de 1 de janeiro de 2019 a dia/mês de date em 2019).\n",
    "- deaths_others_2020: Quantidade de óbitos em decorrência de outros motivos para o estado state acumulados no ano de 2020 (de 1 de janeiro de 2020 a date).\n",
    "- deaths_pneumonia_2019: Quantidade de óbitos em decorrência de pneumonia para o estado state acumulados no ano de 2019 (de 1 de janeiro de 2019 a dia/mês de date em 2019).\n",
    "- deaths_pneumonia_2020: Quantidade de óbitos em decorrência de pneumonia para o estado state acumulados no ano de 2020 (de 1 de janeiro de 2020 a date).\n",
    "- deaths_respiratory_failure_2019: Quantidade de óbitos em decorrência de insuficiência respiratória para o estado state acumulados no ano de 2019 (de 1 de janeiro de 2019 a dia/mês de date em 2019).\n",
    "- deaths_respiratory_failure_2020: Quantidade de óbitos em decorrência de insuficiência respiratória para o estado state acumulados no ano de 2020 (de 1 de janeiro de 2020 a date).\n",
    "- deaths_sars_2019: Quantidade de óbitos em decorrência de SRAG para o estado state acumulados no ano de 2019 (de 1 de janeiro de 2019 a dia/mês de date em 2019).\n",
    "- deaths_sars_2020: Quantidade de óbitos em decorrência de SRAG para o estado state acumulados no ano de 2020 (de 1 de janeiro de 2020 a date).\n",
    "- deaths_septicemia_2019: Quantidade de óbitos em decorrência de septicemia para o estado state acumulados no ano de 2019 (de 1 de janeiro de 2019 a dia/mês de date em 2019).\n",
    "- deaths_septicemia_2020: Quantidade de óbitos em decorrência de septicemia para o estado state acumulados no ano de 2020 (de 1 de janeiro de 2020 a date).\n",
    "- new_deaths_covid19: Quantidade de óbitos em decorrência de suspeita ou confirmação de covid19 para o estado state ocorridos na data date (em 2020).\n",
    "- new_deaths_indeterminate_2019: Quantidade de óbitos de motivo indeterminado para o estado state ocorridos no dia/mês de date, porém em 2019 (de 1 de janeiro de 2019 a dia/mês de date em 2019).\n",
    "- new_deaths_indeterminate_2020: Quantidade de óbitos de motivo indeterminado para o estado state ocorridos na data date (em 2020).\n",
    "- new_deaths_others_2019: Quantidade de óbitos em decorrência de outros motivos para o estado state ocorridos no dia/mês de date, porém em 2019 (de 1 de janeiro de 2019 a dia/mês de date em 2019).\n",
    "- new_deaths_others_2020: Quantidade de óbitos em decorrência de outros motivos para o estado state ocorridos na data date (em 2020).\n",
    "- new_deaths_pneumonia_2019: Quantidade de óbitos em decorrência de pneumonia para o estado state ocorridos no dia/mês de date, porém em 2019 (de 1 de janeiro de 2019 a dia/mês de date em 2019).\n",
    "- new_deaths_pneumonia_2020: Quantidade de óbitos em decorrência de pneumonia para o estado state ocorridos na data date (em 2020).\n",
    "- new_deaths_respiratory_failure_2019: Quantidade de óbitos em decorrência de insuficiência respiratória para o estado state ocorridos no dia/mês de date, porém em 2019 (de 1 de janeiro de 2019 a dia/mês de date em 2019).\n",
    "- new_deaths_respiratory_failure_2020: Quantidade de óbitos em decorrência de insuficiência respiratória para o estado state ocorridos na data date (em 2020).\n",
    "- new_deaths_sars_2019: Quantidade de óbitos em decorrência de SRAG para o estado state ocorridos no dia/mês de date, porém em 2019 (de 1 de janeiro de 2019 a dia/mês de date em 2019).\n",
    "- new_deaths_sars_2020: Quantidade de óbitos em decorrência de SRAG para o estado state ocorridos na data date (em 2020).\n",
    "- new_deaths_septicemia_2019: Quantidade de óbitos em decorrência de septicemia para o estado state ocorridos no dia/mês de date, porém em 2019 (de 1 de janeiro de 2019 a dia/mês de date em 2019).\n",
    "- new_deaths_septicemia_2020: Quantidade de óbitos em decorrência de septicemia para o estado state ocorridos na data date (em 2020).\n",
    "\n",
    "\n",
    "# Estimativa DOU 2019 (estimativa_dou_2019.xls)\n",
    "\n",
    "Planilha publicada pelo IBGE com estimativas para a população residente nos municípios brasileiros com data de referência em 1/7/2019. O conteúdo desta planilha foi transformado em CSV com a seguintes colunas:\n",
    "- CODMUNIC: Código do município no IBGE \n",
    "- UF: sigla da unidade federativa, exemplo: SP.\n",
    "- CODDUF: Código da UF no IBGE\n",
    "- MUNICIPIO: Nome do município \n",
    "- POPULACAO: Estimativa de população, dado alvo"
   ]
  },
  {
   "cell_type": "markdown",
   "metadata": {},
   "source": [
    "### Importação dos dados para banco MYSQL InnoDB\n",
    "\n",
    "Devido à quantidade de dados e os cruzamentos de informações necessárias a análise dos dados, preferi importar todas as tabelas para um banco de dados MySQL por ter maior familiaridade com SQL nativo e ganhar tempo na preparação dos dados.\n",
    "\n",
    "As fontes de dados a serem importadas originais tem:\n",
    "- caso.csv: 490.200 linhas\n",
    "- caso_full.csv: 509.888 linhas \n",
    "- boletim.csv: 4.922 linhas \n",
    "- obito_cartorio.csv: 9.881 linhas \n",
    "- estimativa_dou_2019.xls: 27.850 linhas\n",
    "\n",
    "*Total*: 1.042.741 linhas \n",
    "\n",
    "O processo foi bem simples, importando todos os CSV's disponíveis para a base MySQL.\n",
    "\n",
    "Segue script utilizado e algumas explicações:\n",
    "\n",
    "```\n",
    "    CREATE DATABASE covid19;\n",
    "\n",
    "    CREATE TABLE `caso` (\n",
    "        `id` int(11) NOT NULL AUTO_INCREMENT,\n",
    "        `date` date NOT NULL,\n",
    "        `state` varchar(2) NOT NULL,\n",
    "        `city` varchar(255) DEFAULT NULL,\n",
    "        `place_type` enum('city','state') NOT NULL,\n",
    "        `confirmed` int(11) NOT NULL,\n",
    "        `deaths` int(11) NOT NULL DEFAULT '0',\n",
    "        `order_for_place` int(11) NOT NULL,\n",
    "        `is_last` int(1) NOT NULL DEFAULT '0',\n",
    "        `estimated_population_2019` int(11) NOT NULL,\n",
    "        `city_ibge_code` int(11) NOT NULL,\n",
    "        `confirmed_per_100k_inhabitants` float(16,5) NOT NULL,\n",
    "        `death_rate` float(16,4) NOT NULL,\n",
    "    PRIMARY KEY (`id`)\n",
    "    KEY `state` (`state`),\n",
    "    KEY `city` (`city`)\n",
    ") ENGINE=InnoDB DEFAULT CHARSET=utf8;\n",
    "\n",
    "\n",
    "LOAD DATA LOCAL INFILE '/tmp/caso.csv'\n",
    "INTO TABLE caso \n",
    "    FIELDS TERMINATED BY ',' ENCLOSED BY '\"'\n",
    "    LINES TERMINATED BY '\\n'\n",
    "    IGNORE 1 LINES\n",
    "    (date, state, @city, place_type, confirmed, deaths, order_for_place, @is_last, estimated_population_2019, city_ibge_code, confirmed_per_100k_inhabitants, death_rate) \n",
    "    SET \n",
    "       city     = NULLIF(city, 0),\n",
    "       is_last  = IF(is_last='True',1,0);  \n",
    "\n",
    "```                  \n",
    "\n",
    "Observações: \n",
    "\n",
    "- Criei a estrutura da tabela para já iniciar um pré-processamento e tratar os dados adequadamente. \n",
    "- Atribuí os tipos corretos e fiz um cast em \"is_last\" para True/False ser interpretado como 1/0 na leitura do CSV.\n",
    "- A utilização de LOAD DATA é sensivelmente mais rápido que outros métodos, além de ser muito mais fácil de descrever. No ambiente local do meu notebook, processou em 4,044s os 490.200 registros importados da tabela caso, por exemplo.\n",
    "- Criei uma chave primária fictícia com um ID autoincrement\n",
    "- Criei alguns índices em campos que certamente serão utilizados nos filtros: state e city.\n",
    "- Não permiti valores NULL, exceto em city, que para os registros que referem-se ao estado, pode ser NULL.\n",
    "- A coluna place_type só pode ter os valores \"city\" ou \"state\", então foi usado o tipo enum que limita os valores possíveis\n",
    "- As demais tabelas abaixo são auxiliares para conferir se os dados disponibilizados nesta tabela principal estão corretos e seguem os mesmos princípios."
   ]
  },
  {
   "cell_type": "markdown",
   "metadata": {},
   "source": [
    "```\n",
    "CREATE TABLE `caso_full` (\n",
    "  `id` int(11) NOT NULL AUTO_INCREMENT,\n",
    "  `city` varchar(255) DEFAULT NULL,\n",
    "  `city_ibge_code` varchar(255) NOT NULL,\n",
    "  `date` date NOT NULL,\n",
    "  `epidemiological_week` int(11) NOT NULL,\n",
    "  `estimated_population_2019` int(11) NOT NULL,\n",
    "  `is_last` int(1) NOT NULL,\n",
    "  `is_repeated` int(1) NOT NULL,\n",
    "  `last_available_confirmed` int(11) NOT NULL,\n",
    "  `last_available_confirmed_per_100k_inhabitants` float(16,5) NOT NULL,\n",
    "  `last_available_date` date NOT NULL,\n",
    "  `last_available_death_rate` varchar(255) NOT NULL,\n",
    "  `last_available_deaths` float(16,2) NOT NULL,\n",
    "  `order_for_place` int(11) NOT NULL,\n",
    "  `place_type` enum('city','state') NOT NULL,\n",
    "  `state` varchar(2) NOT NULL,\n",
    "  `new_confirmed` int(11) NOT NULL,\n",
    "  `new_deaths` int(11) NOT NULL,\n",
    "  PRIMARY KEY (`id`)\n",
    "  KEY `state` (`state`),\n",
    "  KEY `city` (`city`)\n",
    ") ENGINE=InnoDB DEFAULT CHARSET=utf8;\n",
    "\n",
    "LOAD DATA LOCAL INFILE '/tmp/caso_full.csv'\n",
    "INTO TABLE caso_full \n",
    "  FIELDS TERMINATED BY ',' ENCLOSED BY '\"'\n",
    "  LINES TERMINATED BY '\\n' \n",
    "  IGNORE 1 LINES\n",
    "  (@city,city_ibge_code,date,epidemiological_week,estimated_population_2019,@is_last,@is_repeated,last_available_confirmed,\n",
    "  last_available_confirmed_per_100k_inhabitants,last_available_date,last_available_death_rate,last_available_deaths,\n",
    "  order_for_place,place_type,state,new_confirmed,new_deaths) \n",
    "  SET \n",
    "    city        = NULLIF(city, 0),\n",
    "    is_last     = IF(is_last='True',1,0),\n",
    "    is_repeated = IF(is_repeated='True',1,0);\n",
    "\n",
    "```\n"
   ]
  },
  {
   "cell_type": "markdown",
   "metadata": {},
   "source": [
    "```\n",
    "CREATE TABLE `boletim` (\n",
    "  `date` date NOT NULL,\n",
    "  `id` int(11) NOT NULL AUTO_INCREMENT,\n",
    "  `notes` varchar(255) DEFAULT NULL,\n",
    "  `state` varchar(2) DEFAULT NULL,\n",
    "  `url` varchar(255) DEFAULT NULL,\n",
    "  PRIMARY KEY (`id`)\n",
    ") ENGINE=InnoDB  DEFAULT CHARSET=utf8;\n",
    "\n",
    "LOAD DATA LOCAL INFILE '/tmp/boletim.csv'\n",
    "INTO TABLE boletim \n",
    "                FIELDS TERMINATED BY ',' ENCLOSED BY '\"'\n",
    "                LINES TERMINATED BY '\\n'\n",
    "                IGNORE 1 LINES\n",
    "                (date,notes,state,url) \n",
    "                SET \n",
    "                notes = NULLIF(notes, 0);\n",
    "```                \n"
   ]
  },
  {
   "cell_type": "markdown",
   "metadata": {},
   "source": [
    "```\n",
    "CREATE TABLE `obito_cartorio` (\n",
    "  `id` int(11) NOT NULL AUTO_INCREMENT,\n",
    "  `date` date NOT NULL,\n",
    "  `state` varchar(2) NOT NULL,\n",
    "  `epidemiological_week_2019` int(11) NOT NULL,\n",
    "  `epidemiological_week_2020` int(11) NOT NULL,\n",
    "  `deaths_indeterminate_2019` int(11) NOT NULL,\n",
    "  `deaths_respiratory_failure_2019` int(11) NOT NULL,\n",
    "  `deaths_others_2019` int(11) NOT NULL,\n",
    "  `deaths_pneumonia_2019` int(11) NOT NULL,\n",
    "  `deaths_septicemia_2019` int(11) NOT NULL,\n",
    "  `deaths_sars_2019` int(11) NOT NULL,\n",
    "  `deaths_covid19` int(11) NOT NULL,\n",
    "  `deaths_indeterminate_2020` int(11) NOT NULL,\n",
    "  `deaths_respiratory_failure_2020` int(11) NOT NULL,\n",
    "  `deaths_others_2020` int(11) NOT NULL,\n",
    "  `deaths_pneumonia_2020` int(11) NOT NULL,\n",
    "  `deaths_septicemia_2020` int(11) NOT NULL,\n",
    "  `deaths_sars_2020` int(11) NOT NULL,\n",
    "  `deaths_total_2019` int(11) NOT NULL,\n",
    "  `deaths_total_2020` int(11) NOT NULL,\n",
    "  `new_deaths_indeterminate_2019` int(11) NOT NULL,\n",
    "  `new_deaths_respiratory_failure_2019` int(11) NOT NULL,\n",
    "  `new_deaths_others_2019` int(11) NOT NULL,\n",
    "  `new_deaths_pneumonia_2019` int(11) NOT NULL,\n",
    "  `new_deaths_septicemia_2019` int(11) NOT NULL,\n",
    "  `new_deaths_sars_2019` int(11) NOT NULL,\n",
    "  `new_deaths_covid19` int(11) NOT NULL,\n",
    "  `new_deaths_indeterminate_2020` int(11) NOT NULL,\n",
    "  `new_deaths_respiratory_failure_2020` int(11) NOT NULL,\n",
    "  `new_deaths_others_2020` int(11) NOT NULL,\n",
    "  `new_deaths_pneumonia_2020` int(11) NOT NULL,\n",
    "  `new_deaths_septicemia_2020` int(11) NOT NULL,\n",
    "  `new_deaths_sars_2020` int(11) NOT NULL,\n",
    "  `new_deaths_total_2019` int(11) NOT NULL,\n",
    "  `new_deaths_total_2020` int(11) NOT NULL,\n",
    "  PRIMARY KEY (`id`),\n",
    "  KEY `state` (`state`)\n",
    ") ENGINE=InnoDB DEFAULT CHARSET=utf8;\n",
    "\n",
    "LOAD DATA LOCAL INFILE '/tmp/obito_cartorio.csv'\n",
    "INTO TABLE obito_cartorio \n",
    "  FIELDS TERMINATED BY ',' ENCLOSED BY '\"'\n",
    "  LINES TERMINATED BY '\\n'\n",
    "  IGNORE 1 LINES\n",
    "  (date,state,epidemiological_week_2019,epidemiological_week_2020,deaths_indeterminate_2019,deaths_respiratory_failure_2019,deaths_others_2019,\n",
    "  eaths_pneumonia_2019,deaths_septicemia_2019,deaths_sars_2019,deaths_covid19,deaths_indeterminate_2020,deaths_respiratory_failure_2020,deaths_others_2020,\n",
    "  deaths_pneumonia_2020,deaths_septicemia_2020,deaths_sars_2020,deaths_total_2019,deaths_total_2020,new_deaths_indeterminate_2019\n",
    "  new_deaths_respiratory_failure_2019,new_deaths_others_2019,new_deaths_pneumonia_2019,new_deaths_septicemia_2019,new_deaths_sars_2019,new_deaths_covid19\n",
    "  new_deaths_indeterminate_2020,new_deaths_respiratory_failure_2020,new_deaths_others_2020,new_deaths_pneumonia_2020,new_deaths_septicemia_2020\n",
    "  new_deaths_sars_2020,new_deaths_total_2019,new_deaths_total_2020);\n",
    "```"
   ]
  },
  {
   "cell_type": "markdown",
   "metadata": {},
   "source": [
    "```\n",
    "CREATE TABLE `estimativa_dou_2019` (\n",
    "  `CODMUNIC` int(11) NOT NULL,\n",
    "  `UF` varchar(2) DEFAULT NULL,\n",
    "  `CODDUF` int(11) DEFAULT NULL,\n",
    "  `MUNICIPIO` varchar(255) DEFAULT NULL,\n",
    "  `POPULACAO` int(11) DEFAULT NULL,\n",
    "  PRIMARY KEY (`CODMUNIC`),\n",
    "  KEY `MUNICIPIO` (`MUNICIPIO`),\n",
    "  KEY `UF` (`UF`)\n",
    ") ENGINE=InnoDB DEFAULT CHARSET=utf8;\n",
    "\n",
    "LOAD DATA LOCAL INFILE '/tmp/estimativa_dou_2019.csv'\n",
    "INTO TABLE estimativa_dou_2019  \n",
    "  FIELDS TERMINATED BY ',' ENCLOSED BY '\"'\n",
    "  LINES TERMINATED BY '\\n'\n",
    "  IGNORE 1 LINES \n",
    "  (UF,CODDUF,CODMUNIC,MUNICIPIO,POPULACAO);\n",
    "```\t\t\t\t\t\t\t\t\n",
    "\n"
   ]
  },
  {
   "cell_type": "markdown",
   "metadata": {},
   "source": [
    "A partir de agora os dados estão disponíveis no banco de dados MySQL em vez dos CSV's.\n",
    "\n",
    "*P.S.: instalei o pacote oficial do conector MySQL com pip install mysql-connector-python*\n",
    "\n",
    "Conectando o Python ao MySQL:\n"
   ]
  },
  {
   "cell_type": "code",
   "execution_count": 54,
   "metadata": {
    "tags": []
   },
   "outputs": [
    {
     "output_type": "stream",
     "name": "stdout",
     "text": "registros em boletim: 4.512\nregistros em caso: 490.200\nregistros em caso_full: 509.888\nregistros em estimativa_dou_2019: 4.307\nregistros em obito_cartorio: 9.881\nTotal de registros na base: 1.018.788\n"
    },
    {
     "output_type": "execute_result",
     "data": {
      "text/plain": "<bound method CMySQLConnection.close of <mysql.connector.connection_cext.CMySQLConnection object at 0x7fe4a5153d10>>"
     },
     "metadata": {},
     "execution_count": 54
    }
   ],
   "source": [
    "import mysql.connector\n",
    "import locale\n",
    "\n",
    "locale.setlocale(locale.LC_ALL, 'pt_BR')\n",
    "\n",
    "cnx = mysql.connector.connect(user='covid', password='.covid.',\n",
    "                              host='127.0.0.1',\n",
    "                              database='covid19')\n",
    "\n",
    "cursor = cnx.cursor()     \n",
    "\n",
    "tabelas = ['boletim','caso','caso_full','estimativa_dou_2019','obito_cartorio']\n",
    "\n",
    "total = 0\n",
    "for tabela in tabelas:\n",
    "    cursor.execute(\"SELECT COUNT(0) FROM \"+tabela)\n",
    "    result = cursor.fetchone()\n",
    "    total += result[0]\n",
    "    print(\"registros em \"+tabela+\": {:n}\".format(result[0]))\n",
    "\n",
    "print(\"Total de registros na base: {:n}\".format(total))\n",
    "cursor.close\n",
    "cnx.close\n"
   ]
  },
  {
   "cell_type": "markdown",
   "metadata": {},
   "source": [
    "Para o processamento dos dados efetivamente, utilizei o SPARK para poder ter acesso a dataframes de forma mais consistente do que o Pandas, simulando uma situação com um volume de dados ainda maior. \n",
    "\n",
    "*P.S.: instalei o pySpark pip install pyspark, após instalar no ambiente o Hadoop e o Spark*"
   ]
  },
  {
   "cell_type": "code",
   "execution_count": 57,
   "metadata": {
    "tags": []
   },
   "outputs": [],
   "source": [
    "from pyspark import SparkContext\n",
    "from pyspark.sql import SparkSession\n",
    "\n",
    "# Tunning do ambiente\n",
    "SparkContext.setSystemProperty('spark.executor.memory', '8g')\n",
    "SparkContext.setSystemProperty('spark.executor.cores', '3')\n",
    "SparkContext.setSystemProperty('spark.cores.max', '3')\n",
    "SparkContext.setSystemProperty('spark.drives.memory', '8g')\n",
    "\n",
    "SQL_CONNECTION=\"jdbc:mysql://localhost:3306/covid19?user=covid&password=.covid.\"\n",
    "\n"
   ]
  },
  {
   "cell_type": "code",
   "execution_count": 58,
   "metadata": {
    "tags": []
   },
   "outputs": [
    {
     "output_type": "stream",
     "name": "stdout",
     "text": "+---+----------+-----+----+----------+---------+------+---------------+-------+-------------------------+--------------+------------------------------+----------+\n| id|      date|state|city|place_type|confirmed|deaths|order_for_place|is_last|estimated_population_2019|city_ibge_code|confirmed_per_100k_inhabitants|death_rate|\n+---+----------+-----+----+----------+---------+------+---------------+-------+-------------------------+--------------+------------------------------+----------+\n|  1|2020-08-09|   AC|null|     state|    21587|   561|            146|      1|                   881935|            12|                    2447.68604|     0.026|\n|  2|2020-08-08|   AC|null|     state|    21498|   559|            145|      1|                   881935|            12|                    2437.59473|     0.026|\n|  3|2020-08-07|   AC|null|     state|    21376|   556|            144|      1|                   881935|            12|                    2423.76147|     0.026|\n|  4|2020-08-06|   AC|null|     state|    21263|   552|            143|      1|                   881935|            12|                    2410.94873|     0.026|\n|  5|2020-08-05|   AC|null|     state|    21033|   547|            142|      1|                   881935|            12|                    2384.86963|     0.026|\n|  6|2020-08-04|   AC|null|     state|    20710|   545|            141|      1|                   881935|            12|                    2348.24561|    0.0263|\n|  7|2020-08-03|   AC|null|     state|    20339|   539|            140|      1|                   881935|            12|                    2306.17896|    0.0265|\n|  8|2020-08-02|   AC|null|     state|    19966|   537|            139|      1|                   881935|            12|                    2263.88574|    0.0269|\n|  9|2020-08-01|   AC|null|     state|    19930|   535|            138|      1|                   881935|            12|                    2259.80371|    0.0268|\n| 10|2020-07-31|   AC|null|     state|    19625|   531|            137|      1|                   881935|            12|                     2225.2207|    0.0271|\n| 11|2020-07-30|   AC|null|     state|    19573|   521|            136|      1|                   881935|            12|                    2219.32446|    0.0266|\n| 12|2020-07-29|   AC|null|     state|    19366|   510|            135|      1|                   881935|            12|                    2195.85352|    0.0263|\n| 13|2020-07-28|   AC|null|     state|    19132|   500|            134|      1|                   881935|            12|                     2169.3208|    0.0261|\n| 14|2020-07-27|   AC|null|     state|    18783|   493|            133|      1|                   881935|            12|                    2129.74878|    0.0262|\n| 15|2020-07-26|   AC|null|     state|    18745|   486|            132|      1|                   881935|            12|                    2125.44019|    0.0259|\n| 16|2020-07-25|   AC|null|     state|    18657|   483|            131|      1|                   881935|            12|                    2115.46191|    0.0259|\n| 17|2020-07-24|   AC|null|     state|    18393|   480|            130|      1|                   881935|            12|                    2085.52783|    0.0261|\n| 18|2020-07-23|   AC|null|     state|    18157|   474|            129|      1|                   881935|            12|                    2058.76855|    0.0261|\n| 19|2020-07-22|   AC|null|     state|    17979|   470|            128|      1|                   881935|            12|                    2038.58557|    0.0261|\n| 20|2020-07-21|   AC|null|     state|    17700|   469|            127|      1|                   881935|            12|                    2006.95068|    0.0265|\n+---+----------+-----+----+----------+---------+------+---------------+-------+-------------------------+--------------+------------------------------+----------+\nonly showing top 20 rows\n\nroot\n |-- id: integer (nullable = true)\n |-- date: date (nullable = true)\n |-- state: string (nullable = true)\n |-- city: string (nullable = true)\n |-- place_type: string (nullable = true)\n |-- confirmed: integer (nullable = true)\n |-- deaths: integer (nullable = true)\n |-- order_for_place: integer (nullable = true)\n |-- is_last: integer (nullable = true)\n |-- estimated_population_2019: integer (nullable = true)\n |-- city_ibge_code: integer (nullable = true)\n |-- confirmed_per_100k_inhabitants: double (nullable = true)\n |-- death_rate: double (nullable = true)\n\n"
    }
   ],
   "source": [
    "spark = SparkSession\\\n",
    "        .builder\\\n",
    "        .appName(\"Covid19\")\\\n",
    "        .getOrCreate()    \n",
    " \n",
    "spark \n",
    " \n",
    "df = spark.read\\\n",
    "        .format(\"jdbc\")\\\n",
    "        .option(\"url\", SQL_CONNECTION)\\\n",
    "        .option(\"driver\", \"com.mysql.jdbc.Driver\")\\\n",
    "        .option(\"dbtable\", \"caso\")\\\n",
    "        .load()    \n",
    "      \n",
    "df.show()  \n",
    "df.printSchema()\n"
   ]
  },
  {
   "cell_type": "markdown",
   "metadata": {},
   "source": [
    "Executando uma query no banco buscando a soma de mortes por estado, apenas para testar a conectividade"
   ]
  },
  {
   "cell_type": "code",
   "execution_count": 59,
   "metadata": {
    "tags": []
   },
   "outputs": [
    {
     "output_type": "stream",
     "name": "stdout",
     "text": "+-----+----------+\n|state|sum_deaths|\n+-----+----------+\n|   SP|   2562536|\n|   RJ|   1613511|\n|   CE|    970998|\n|   PE|    814858|\n|   PA|    783860|\n|   AM|    483751|\n|   MA|    343307|\n|   BA|    323369|\n|   ES|    260926|\n|   MG|    197714|\n|   AL|    172629|\n|   PB|    170127|\n|   RN|    154450|\n|   RS|    144954|\n|   PR|    138223|\n|   PI|    120798|\n|   MT|    117581|\n|   GO|    117189|\n|   DF|    115826|\n|   SE|    113945|\n|   SC|     82360|\n|   RO|     76957|\n|   AP|     67460|\n|   AC|     56482|\n|   RR|     50565|\n|   TO|     33392|\n|   MS|     22845|\n+-----+----------+\n\n"
    }
   ],
   "source": [
    "sql = \"(SELECT state,SUM(deaths) AS sum_deaths FROM caso GROUP BY state ORDER BY sum_deaths DESC) tmp\" \n",
    "df = spark.read\\\n",
    "        .format(\"jdbc\")\\\n",
    "        .option(\"url\", SQL_CONNECTION)\\\n",
    "        .option(\"driver\", \"com.mysql.jdbc.Driver\")\\\n",
    "        .option(\"dbtable\", sql)\\\n",
    "        .load()\n",
    "df.show(df.count())\n",
    "\n"
   ]
  },
  {
   "cell_type": "markdown",
   "metadata": {},
   "source": [
    "Criando uma função para melhorar a legibilidade do código"
   ]
  },
  {
   "cell_type": "code",
   "execution_count": 60,
   "metadata": {},
   "outputs": [],
   "source": [
    "def getData(sql):\n",
    "    df = spark.read\\\n",
    "        .format(\"jdbc\")\\\n",
    "        .option(\"url\", SQL_CONNECTION)\\\n",
    "        .option(\"driver\", \"com.mysql.jdbc.Driver\")\\\n",
    "        .option(\"dbtable\", sql)\\\n",
    "        .load()\n",
    "    return df    "
   ]
  },
  {
   "cell_type": "code",
   "execution_count": 61,
   "metadata": {
    "tags": []
   },
   "outputs": [
    {
     "output_type": "stream",
     "name": "stdout",
     "text": "Linhas: 9881 | Colunas: 35\n"
    },
    {
     "output_type": "execute_result",
     "data": {
      "text/plain": "['id',\n 'date',\n 'state',\n 'epidemiological_week_2019',\n 'epidemiological_week_2020',\n 'deaths_indeterminate_2019',\n 'deaths_respiratory_failure_2019',\n 'deaths_others_2019',\n 'deaths_pneumonia_2019',\n 'deaths_septicemia_2019',\n 'deaths_sars_2019',\n 'deaths_covid19',\n 'deaths_indeterminate_2020',\n 'deaths_respiratory_failure_2020',\n 'deaths_others_2020',\n 'deaths_pneumonia_2020',\n 'deaths_septicemia_2020',\n 'deaths_sars_2020',\n 'deaths_total_2019',\n 'deaths_total_2020',\n 'new_deaths_indeterminate_2019',\n 'new_deaths_respiratory_failure_2019',\n 'new_deaths_others_2019',\n 'new_deaths_pneumonia_2019',\n 'new_deaths_septicemia_2019',\n 'new_deaths_sars_2019',\n 'new_deaths_covid19',\n 'new_deaths_indeterminate_2020',\n 'new_deaths_respiratory_failure_2020',\n 'new_deaths_others_2020',\n 'new_deaths_pneumonia_2020',\n 'new_deaths_septicemia_2020',\n 'new_deaths_sars_2020',\n 'new_deaths_total_2019',\n 'new_deaths_total_2020']"
     },
     "metadata": {},
     "execution_count": 61
    }
   ],
   "source": [
    "df = getData(\"obito_cartorio\")\n",
    "print(f'Linhas: {df.count()} | Colunas: {len(df.columns)}')\n",
    "df.columns\n"
   ]
  },
  {
   "cell_type": "code",
   "execution_count": 62,
   "metadata": {},
   "outputs": [
    {
     "output_type": "execute_result",
     "data": {
      "text/plain": "DataFrame[summary: string, id: string, state: string, epidemiological_week_2019: string, epidemiological_week_2020: string, deaths_indeterminate_2019: string, deaths_respiratory_failure_2019: string, deaths_others_2019: string, deaths_pneumonia_2019: string, deaths_septicemia_2019: string, deaths_sars_2019: string, deaths_covid19: string, deaths_indeterminate_2020: string, deaths_respiratory_failure_2020: string, deaths_others_2020: string, deaths_pneumonia_2020: string, deaths_septicemia_2020: string, deaths_sars_2020: string, deaths_total_2019: string, deaths_total_2020: string, new_deaths_indeterminate_2019: string, new_deaths_respiratory_failure_2019: string, new_deaths_others_2019: string, new_deaths_pneumonia_2019: string, new_deaths_septicemia_2019: string, new_deaths_sars_2019: string, new_deaths_covid19: string, new_deaths_indeterminate_2020: string, new_deaths_respiratory_failure_2020: string, new_deaths_others_2020: string, new_deaths_pneumonia_2020: string, new_deaths_septicemia_2020: string, new_deaths_sars_2020: string, new_deaths_total_2019: string, new_deaths_total_2020: string]"
     },
     "metadata": {},
     "execution_count": 62
    }
   ],
   "source": [
    "df.describe()"
   ]
  },
  {
   "cell_type": "markdown",
   "metadata": {},
   "source": [
    "Utilizando o Pandas para melhorar a apresentação"
   ]
  },
  {
   "cell_type": "code",
   "execution_count": 63,
   "metadata": {},
   "outputs": [
    {
     "output_type": "execute_result",
     "data": {
      "text/plain": "                id  epidemiological_week_2019  epidemiological_week_2020  \\\ncount  9881.000000                9881.000000                9881.000000   \nmean   4941.000000                  26.380528                  27.069021   \nstd    2852.543339                  15.054090                  15.098432   \nmin       1.000000                   1.000000                   1.000000   \n25%    2471.000000                  13.000000                  14.000000   \n50%    4941.000000                  26.000000                  27.000000   \n75%    7411.000000                  39.000000                  40.000000   \nmax    9881.000000                  52.000000                  53.000000   \n\n       deaths_indeterminate_2019  deaths_respiratory_failure_2019  \\\ncount                9881.000000                      9881.000000   \nmean                  122.410080                      1818.561380   \nstd                   248.023524                      3170.260047   \nmin                     0.000000                         0.000000   \n25%                    15.000000                       239.000000   \n50%                    47.000000                       729.000000   \n75%                   102.000000                      1916.000000   \nmax                  1815.000000                     25583.000000   \n\n       deaths_others_2019  deaths_pneumonia_2019  deaths_septicemia_2019  \\\ncount         9881.000000            9881.000000             9881.000000   \nmean         11983.415241            4126.027528             3213.896670   \nstd          20263.848251            8574.383406             5695.544747   \nmin              2.000000               1.000000                0.000000   \n25%           1731.000000             509.000000              379.000000   \n50%           5252.000000            1573.000000             1242.000000   \n75%          11960.000000            3899.000000             3068.000000   \nmax         160199.000000           72985.000000            43211.000000   \n\n       deaths_sars_2019  deaths_covid19  ...  new_deaths_sars_2019  \\\ncount       9881.000000     9881.000000  ...           9881.000000   \nmean          26.597409     1855.032487  ...              0.149175   \nstd           41.034530     4148.207639  ...              0.432734   \nmin            0.000000        0.000000  ...              0.000000   \n25%            4.000000        3.000000  ...              0.000000   \n50%           13.000000      496.000000  ...              0.000000   \n75%           30.000000     1753.000000  ...              0.000000   \nmax          293.000000    26139.000000  ...              5.000000   \n\n       new_deaths_covid19  new_deaths_indeterminate_2020  \\\ncount         9881.000000                    9881.000000   \nmean             8.936545                       0.517458   \nstd             30.793036                       1.418617   \nmin              0.000000                       0.000000   \n25%              0.000000                       0.000000   \n50%              0.000000                       0.000000   \n75%              3.000000                       0.000000   \nmax            299.000000                      19.000000   \n\n       new_deaths_respiratory_failure_2020  new_deaths_others_2020  \\\ncount                          9881.000000             9881.000000   \nmean                              5.731100               38.353102   \nstd                              13.034509               76.450125   \nmin                               0.000000                0.000000   \n25%                               0.000000                0.000000   \n50%                               1.000000                9.000000   \n75%                               6.000000               38.000000   \nmax                             131.000000              544.000000   \n\n       new_deaths_pneumonia_2020  new_deaths_septicemia_2020  \\\ncount                9881.000000                 9881.000000   \nmean                   10.791114                    9.102115   \nstd                    25.622890                   19.206380   \nmin                     0.000000                    0.000000   \n25%                     0.000000                    0.000000   \n50%                     2.000000                    1.000000   \n75%                    10.000000                    8.000000   \nmax                   245.000000                  151.000000   \n\n       new_deaths_sars_2020  new_deaths_total_2019  new_deaths_total_2020  \ncount           9881.000000            9881.000000            9881.000000  \nmean               1.108086             116.536585              74.539520  \nstd                4.472753             168.940785             156.358693  \nmin                0.000000               0.000000               0.000000  \n25%                0.000000              31.000000               0.000000  \n50%                0.000000              51.000000              17.000000  \n75%                0.000000             145.000000              74.000000  \nmax               73.000000            1049.000000            1185.000000  \n\n[8 rows x 33 columns]",
      "text/html": "<div>\n<style scoped>\n    .dataframe tbody tr th:only-of-type {\n        vertical-align: middle;\n    }\n\n    .dataframe tbody tr th {\n        vertical-align: top;\n    }\n\n    .dataframe thead th {\n        text-align: right;\n    }\n</style>\n<table border=\"1\" class=\"dataframe\">\n  <thead>\n    <tr style=\"text-align: right;\">\n      <th></th>\n      <th>id</th>\n      <th>epidemiological_week_2019</th>\n      <th>epidemiological_week_2020</th>\n      <th>deaths_indeterminate_2019</th>\n      <th>deaths_respiratory_failure_2019</th>\n      <th>deaths_others_2019</th>\n      <th>deaths_pneumonia_2019</th>\n      <th>deaths_septicemia_2019</th>\n      <th>deaths_sars_2019</th>\n      <th>deaths_covid19</th>\n      <th>...</th>\n      <th>new_deaths_sars_2019</th>\n      <th>new_deaths_covid19</th>\n      <th>new_deaths_indeterminate_2020</th>\n      <th>new_deaths_respiratory_failure_2020</th>\n      <th>new_deaths_others_2020</th>\n      <th>new_deaths_pneumonia_2020</th>\n      <th>new_deaths_septicemia_2020</th>\n      <th>new_deaths_sars_2020</th>\n      <th>new_deaths_total_2019</th>\n      <th>new_deaths_total_2020</th>\n    </tr>\n  </thead>\n  <tbody>\n    <tr>\n      <td>count</td>\n      <td>9881.000000</td>\n      <td>9881.000000</td>\n      <td>9881.000000</td>\n      <td>9881.000000</td>\n      <td>9881.000000</td>\n      <td>9881.000000</td>\n      <td>9881.000000</td>\n      <td>9881.000000</td>\n      <td>9881.000000</td>\n      <td>9881.000000</td>\n      <td>...</td>\n      <td>9881.000000</td>\n      <td>9881.000000</td>\n      <td>9881.000000</td>\n      <td>9881.000000</td>\n      <td>9881.000000</td>\n      <td>9881.000000</td>\n      <td>9881.000000</td>\n      <td>9881.000000</td>\n      <td>9881.000000</td>\n      <td>9881.000000</td>\n    </tr>\n    <tr>\n      <td>mean</td>\n      <td>4941.000000</td>\n      <td>26.380528</td>\n      <td>27.069021</td>\n      <td>122.410080</td>\n      <td>1818.561380</td>\n      <td>11983.415241</td>\n      <td>4126.027528</td>\n      <td>3213.896670</td>\n      <td>26.597409</td>\n      <td>1855.032487</td>\n      <td>...</td>\n      <td>0.149175</td>\n      <td>8.936545</td>\n      <td>0.517458</td>\n      <td>5.731100</td>\n      <td>38.353102</td>\n      <td>10.791114</td>\n      <td>9.102115</td>\n      <td>1.108086</td>\n      <td>116.536585</td>\n      <td>74.539520</td>\n    </tr>\n    <tr>\n      <td>std</td>\n      <td>2852.543339</td>\n      <td>15.054090</td>\n      <td>15.098432</td>\n      <td>248.023524</td>\n      <td>3170.260047</td>\n      <td>20263.848251</td>\n      <td>8574.383406</td>\n      <td>5695.544747</td>\n      <td>41.034530</td>\n      <td>4148.207639</td>\n      <td>...</td>\n      <td>0.432734</td>\n      <td>30.793036</td>\n      <td>1.418617</td>\n      <td>13.034509</td>\n      <td>76.450125</td>\n      <td>25.622890</td>\n      <td>19.206380</td>\n      <td>4.472753</td>\n      <td>168.940785</td>\n      <td>156.358693</td>\n    </tr>\n    <tr>\n      <td>min</td>\n      <td>1.000000</td>\n      <td>1.000000</td>\n      <td>1.000000</td>\n      <td>0.000000</td>\n      <td>0.000000</td>\n      <td>2.000000</td>\n      <td>1.000000</td>\n      <td>0.000000</td>\n      <td>0.000000</td>\n      <td>0.000000</td>\n      <td>...</td>\n      <td>0.000000</td>\n      <td>0.000000</td>\n      <td>0.000000</td>\n      <td>0.000000</td>\n      <td>0.000000</td>\n      <td>0.000000</td>\n      <td>0.000000</td>\n      <td>0.000000</td>\n      <td>0.000000</td>\n      <td>0.000000</td>\n    </tr>\n    <tr>\n      <td>25%</td>\n      <td>2471.000000</td>\n      <td>13.000000</td>\n      <td>14.000000</td>\n      <td>15.000000</td>\n      <td>239.000000</td>\n      <td>1731.000000</td>\n      <td>509.000000</td>\n      <td>379.000000</td>\n      <td>4.000000</td>\n      <td>3.000000</td>\n      <td>...</td>\n      <td>0.000000</td>\n      <td>0.000000</td>\n      <td>0.000000</td>\n      <td>0.000000</td>\n      <td>0.000000</td>\n      <td>0.000000</td>\n      <td>0.000000</td>\n      <td>0.000000</td>\n      <td>31.000000</td>\n      <td>0.000000</td>\n    </tr>\n    <tr>\n      <td>50%</td>\n      <td>4941.000000</td>\n      <td>26.000000</td>\n      <td>27.000000</td>\n      <td>47.000000</td>\n      <td>729.000000</td>\n      <td>5252.000000</td>\n      <td>1573.000000</td>\n      <td>1242.000000</td>\n      <td>13.000000</td>\n      <td>496.000000</td>\n      <td>...</td>\n      <td>0.000000</td>\n      <td>0.000000</td>\n      <td>0.000000</td>\n      <td>1.000000</td>\n      <td>9.000000</td>\n      <td>2.000000</td>\n      <td>1.000000</td>\n      <td>0.000000</td>\n      <td>51.000000</td>\n      <td>17.000000</td>\n    </tr>\n    <tr>\n      <td>75%</td>\n      <td>7411.000000</td>\n      <td>39.000000</td>\n      <td>40.000000</td>\n      <td>102.000000</td>\n      <td>1916.000000</td>\n      <td>11960.000000</td>\n      <td>3899.000000</td>\n      <td>3068.000000</td>\n      <td>30.000000</td>\n      <td>1753.000000</td>\n      <td>...</td>\n      <td>0.000000</td>\n      <td>3.000000</td>\n      <td>0.000000</td>\n      <td>6.000000</td>\n      <td>38.000000</td>\n      <td>10.000000</td>\n      <td>8.000000</td>\n      <td>0.000000</td>\n      <td>145.000000</td>\n      <td>74.000000</td>\n    </tr>\n    <tr>\n      <td>max</td>\n      <td>9881.000000</td>\n      <td>52.000000</td>\n      <td>53.000000</td>\n      <td>1815.000000</td>\n      <td>25583.000000</td>\n      <td>160199.000000</td>\n      <td>72985.000000</td>\n      <td>43211.000000</td>\n      <td>293.000000</td>\n      <td>26139.000000</td>\n      <td>...</td>\n      <td>5.000000</td>\n      <td>299.000000</td>\n      <td>19.000000</td>\n      <td>131.000000</td>\n      <td>544.000000</td>\n      <td>245.000000</td>\n      <td>151.000000</td>\n      <td>73.000000</td>\n      <td>1049.000000</td>\n      <td>1185.000000</td>\n    </tr>\n  </tbody>\n</table>\n<p>8 rows × 33 columns</p>\n</div>"
     },
     "metadata": {},
     "execution_count": 63
    }
   ],
   "source": [
    "import pandas\n",
    "pandas_df = df.toPandas()\n",
    "pandas_df.describe()\n"
   ]
  },
  {
   "cell_type": "code",
   "execution_count": 64,
   "metadata": {
    "tags": []
   },
   "outputs": [
    {
     "output_type": "stream",
     "name": "stdout",
     "text": "+-----+------------------+\n|state|total_deaths_covid|\n+-----+------------------+\n|   SP|           5400410|\n|   RJ|           3338791|\n|   CE|           1554930|\n|   PE|            954583|\n|   PA|            800248|\n|   BA|            781914|\n|   PR|            522688|\n|   ES|            517827|\n|   RS|            430801|\n|   MA|            400645|\n|   AM|            400558|\n|   GO|            399033|\n|   MG|            391265|\n|   PB|            329776|\n|   AL|            329392|\n|   DF|            306190|\n|   RN|            277279|\n|   SC|            224986|\n|   SE|            210239|\n|   RO|            125710|\n|   MT|            111514|\n|   AP|            107439|\n|   PI|            106810|\n|   AC|            100458|\n|   RR|             94796|\n|   MS|             66282|\n|   TO|             45012|\n+-----+------------------+\n\n"
    }
   ],
   "source": [
    "\n",
    "from pyspark.sql.functions import sum\n",
    "gr = df.groupBy(\"state\").agg(sum(\"deaths_covid19\").alias(\"total_deaths_covid\"))\n",
    "gr.orderBy('total_deaths_covid', ascending=False).show(gr.count())\n"
   ]
  },
  {
   "cell_type": "markdown",
   "metadata": {},
   "source": [
    "## Parte 2 - Analisando os dados\n",
    "\n",
    "Teoricamente, a tabela \"caso\" é uma tabela pré-processada com dados das demais tabelas, mas a consolidação foi feita por terceiros.\n",
    "Cada tabela será checada, mas algumas providências já foram tomadas pela estrutura do banco de dados, como a eliminação de dados nulos, por exemplo.\n",
    "\n"
   ]
  },
  {
   "cell_type": "markdown",
   "metadata": {},
   "source": [
    "### Tabela boletim"
   ]
  },
  {
   "cell_type": "code",
   "execution_count": 92,
   "metadata": {},
   "outputs": [
    {
     "output_type": "execute_result",
     "data": {
      "text/plain": "id                                     0.0\ndate                                   0.0\nstate                                  0.0\nepidemiological_week_2019              0.0\nepidemiological_week_2020              0.0\ndeaths_indeterminate_2019              0.0\ndeaths_respiratory_failure_2019        0.0\ndeaths_others_2019                     0.0\ndeaths_pneumonia_2019                  0.0\ndeaths_septicemia_2019                 0.0\ndeaths_sars_2019                       0.0\ndeaths_covid19                         0.0\ndeaths_indeterminate_2020              0.0\ndeaths_respiratory_failure_2020        0.0\ndeaths_others_2020                     0.0\ndeaths_pneumonia_2020                  0.0\ndeaths_septicemia_2020                 0.0\ndeaths_sars_2020                       0.0\ndeaths_total_2019                      0.0\ndeaths_total_2020                      0.0\nnew_deaths_indeterminate_2019          0.0\nnew_deaths_respiratory_failure_2019    0.0\nnew_deaths_others_2019                 0.0\nnew_deaths_pneumonia_2019              0.0\nnew_deaths_septicemia_2019             0.0\nnew_deaths_sars_2019                   0.0\nnew_deaths_covid19                     0.0\nnew_deaths_indeterminate_2020          0.0\nnew_deaths_respiratory_failure_2020    0.0\nnew_deaths_others_2020                 0.0\nnew_deaths_pneumonia_2020              0.0\nnew_deaths_septicemia_2020             0.0\nnew_deaths_sars_2020                   0.0\nnew_deaths_total_2019                  0.0\nnew_deaths_total_2020                  0.0\ndtype: float64"
     },
     "metadata": {},
     "execution_count": 92
    }
   ],
   "source": [
    "df_boletim = getData(\"boletim\")\n",
    "df_boletim.dtypes\n",
    "round(df.toPandas().isnull().mean()*100,2)\n",
    "\n",
    "# Verificando se há valores nulos (just in case)"
   ]
  },
  {
   "cell_type": "code",
   "execution_count": 93,
   "metadata": {
    "tags": []
   },
   "outputs": [
    {
     "output_type": "stream",
     "name": "stdout",
     "text": "+----------+---+-----+-----+--------------------+\n|      date| id|notes|state|                 url|\n+----------+---+-----+-----+--------------------+\n|2020-03-17|  1| null|   AC|https://agencia.a...|\n|2020-03-17|  2| null|   AC|https://agencia.a...|\n|2020-03-18|  3| null|   AC|https://agencia.a...|\n|2020-03-19|  4| null|   AC|https://agencia.a...|\n|2020-03-20|  5| null|   AC|https://agencia.a...|\n|2020-03-20|  6| null|   AC|https://agencia.a...|\n|2020-03-20|  7| null|   AC|https://agencia.a...|\n|2020-03-21|  8| null|   AC|https://agencia.a...|\n|2020-03-22|  9| null|   AC|https://agencia.a...|\n|2020-03-22| 10| null|   AC|https://agencia.a...|\n|2020-03-23| 11| null|   AC|https://agencia.a...|\n|2020-03-24| 12| null|   AC|https://agencia.a...|\n|2020-03-25| 13| null|   AC|https://agencia.a...|\n|2020-03-26| 14| null|   AC|https://agencia.a...|\n|2020-03-27| 15| null|   AC|https://agencia.a...|\n|2020-03-28| 16| null|   AC|https://agencia.a...|\n|2020-03-29| 17| null|   AC|https://agencia.a...|\n|2020-03-30| 18| null|   AC|https://agencia.a...|\n|2020-03-31| 19| null|   AC|https://agencia.a...|\n|2020-04-01| 20| null|   AC|https://agencia.a...|\n+----------+---+-----+-----+--------------------+\nonly showing top 20 rows\n\n+----------+---+-----+\n|      date| id|state|\n+----------+---+-----+\n|2020-03-17|  1|   AC|\n|2020-03-17|  2|   AC|\n|2020-03-18|  3|   AC|\n|2020-03-19|  4|   AC|\n|2020-03-20|  5|   AC|\n|2020-03-20|  6|   AC|\n|2020-03-20|  7|   AC|\n|2020-03-21|  8|   AC|\n|2020-03-22|  9|   AC|\n|2020-03-22| 10|   AC|\n|2020-03-23| 11|   AC|\n|2020-03-24| 12|   AC|\n|2020-03-25| 13|   AC|\n|2020-03-26| 14|   AC|\n|2020-03-27| 15|   AC|\n|2020-03-28| 16|   AC|\n|2020-03-29| 17|   AC|\n|2020-03-30| 18|   AC|\n|2020-03-31| 19|   AC|\n|2020-04-01| 20|   AC|\n+----------+---+-----+\nonly showing top 20 rows\n\n"
    }
   ],
   "source": [
    "df_boletim.show()\n",
    "\n",
    "# As colunas url e notes são irrelevantes para a análise, dropando\n",
    "columns_to_drop = ['notes', 'url']\n",
    "df_boletim = df_boletim.drop(*columns_to_drop)\n",
    "df_boletim.show()"
   ]
  },
  {
   "cell_type": "code",
   "execution_count": 113,
   "metadata": {
    "tags": []
   },
   "outputs": [
    {
     "output_type": "stream",
     "name": "stdout",
     "text": "+-----+\n|month|\n+-----+\n|    1|\n|    2|\n|    3|\n|    4|\n|    5|\n|    6|\n|    7|\n|    8|\n+-----+\n\n"
    }
   ],
   "source": [
    "# Criando coluna virtual para mês\n",
    "import datetime\n",
    "from pyspark.sql.functions import year, month, dayofmonth\n",
    "\n",
    "# Checando se tem todos os meses de 2020\n",
    "df_boletim.select(\"month\").distinct().orderBy(\"month\").show()"
   ]
  },
  {
   "cell_type": "code",
   "execution_count": 52,
   "metadata": {},
   "outputs": [],
   "source": [
    "# Fechamento da conexão com o banco de dados\n",
    "spark.stop()"
   ]
  },
  {
   "cell_type": "code",
   "execution_count": null,
   "metadata": {},
   "outputs": [],
   "source": []
  }
 ],
 "metadata": {
  "language_info": {
   "codemirror_mode": {
    "name": "ipython",
    "version": 3
   },
   "file_extension": ".py",
   "mimetype": "text/x-python",
   "name": "python",
   "nbconvert_exporter": "python",
   "pygments_lexer": "ipython3",
   "version": "3.7.4-final"
  },
  "orig_nbformat": 2,
  "kernelspec": {
   "name": "python37464bitanaconda3virtualenv69eb471e423e4f79b0451f3a5a1bd50a",
   "display_name": "Python 3.7.4 64-bit ('anaconda3': virtualenv)"
  }
 },
 "nbformat": 4,
 "nbformat_minor": 2
}